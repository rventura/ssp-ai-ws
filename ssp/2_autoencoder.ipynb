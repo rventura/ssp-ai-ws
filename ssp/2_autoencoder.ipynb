{
 "cells": [
  {
   "cell_type": "code",
   "execution_count": 1,
   "id": "75f49ce7-6f3e-4bd3-99bb-d73a854d0f33",
   "metadata": {},
   "outputs": [],
   "source": [
    "import matplotlib.pyplot as plt\n",
    "import torch\n",
    "from torch import nn\n",
    "from torch.utils.data import *\n",
    "from torchvision import datasets\n",
    "from torchvision.transforms import *"
   ]
  },
  {
   "cell_type": "code",
   "execution_count": 2,
   "id": "5488a756-f1c7-43a5-9144-d324f4164b5f",
   "metadata": {},
   "outputs": [],
   "source": [
    "# Download MNIST dataset\n",
    "full_dataset = datasets.MNIST(\n",
    "    root=\"data\",\n",
    "    download=True,\n",
    "    transform=ToTensor(),\n",
    ")"
   ]
  },
  {
   "cell_type": "code",
   "execution_count": 3,
   "id": "28d0b60a-299f-4f3a-be27-f1bf6fa4b19d",
   "metadata": {},
   "outputs": [
    {
     "name": "stdout",
     "output_type": "stream",
     "text": [
      "Shape of X [N, C, H, W]: torch.Size([64, 1, 28, 28])\n",
      "Shape of y: torch.Size([64]) torch.int64\n"
     ]
    }
   ],
   "source": [
    "batch_size = 64\n",
    "\n",
    "# Create data loaders.\n",
    "dataloader = DataLoader(full_dataset, batch_size=batch_size)\n",
    "\n",
    "# DELME\n",
    "for X, y in dataloader:\n",
    "    print(f\"Shape of X [N, C, H, W]: {X.shape}\")\n",
    "    print(f\"Shape of y: {y.shape} {y.dtype}\")\n",
    "    break"
   ]
  },
  {
   "cell_type": "code",
   "execution_count": 4,
   "id": "a07c8ea7-4d8a-4d6b-9455-581ba1865502",
   "metadata": {
    "scrolled": true
   },
   "outputs": [
    {
     "data": {
      "image/png": "[encoded data removed]",
      "text/plain": [
       "<Figure size 640x480 with 10 Axes>"
      ]
     },
     "metadata": {},
     "output_type": "display_data"
    }
   ],
   "source": [
    "# Show some examples of the dataset\n",
    "\n",
    "(fig,ax) = plt.subplots(1, 10, constrained_layout=True)\n",
    "ds = full_dataset\n",
    "for j in range(10):\n",
    "    ax[j].imshow(ds[j][0][0], cmap=\"gray\")\n",
    "    ax[j].set_axis_off()\n",
    "    ax[j].set_title(ds[j][1])\n",
    "plt.axis('off')\n",
    "plt.show()"
   ]
  },
  {
   "cell_type": "code",
   "execution_count": 5,
   "id": "c3f2f8ee-48b4-47d5-a848-19b5c7bd4de3",
   "metadata": {},
   "outputs": [
    {
     "name": "stdout",
     "output_type": "stream",
     "text": [
      "Using mps device\n"
     ]
    }
   ],
   "source": [
    "device = torch.accelerator.current_accelerator().type if torch.accelerator.is_available() else \"cpu\"\n",
    "print(f\"Using {device} device\")"
   ]
  },
  {
   "cell_type": "code",
   "execution_count": 34,
   "id": "e5c3a115-f2e8-41f0-a24d-7f59e07f7248",
   "metadata": {},
   "outputs": [],
   "source": [
    "# Define model\n",
    "class AutoencoderMNIST(nn.Module):\n",
    "    bottleneck = 10\n",
    "    \n",
    "    def __init__(self):\n",
    "        super().__init__()\n",
    "        self.flatten = nn.Flatten()\n",
    "        self.unflatten = nn.Unflatten(1, (1,28,28))\n",
    "        self.encoder = nn.Sequential(\n",
    "            nn.Linear(28*28, 512),\n",
    "            nn.ReLU(),\n",
    "            nn.Linear(512, 512),\n",
    "            nn.ReLU(),\n",
    "            nn.Linear(512, self.bottleneck)\n",
    "        )\n",
    "        self.decoder = nn.Sequential(\n",
    "            nn.Linear(self.bottleneck, 512),\n",
    "            nn.ReLU(),\n",
    "            nn.Linear(512, 512),\n",
    "            nn.ReLU(),\n",
    "            nn.Linear(512, 28*28),\n",
    "            nn.Sigmoid()\n",
    "        )\n",
    "\n",
    "    def encode(self, x):\n",
    "        x = self.flatten(x)\n",
    "        coded = self.encoder(x)\n",
    "        return coded\n",
    "\n",
    "    def decode(self, x):\n",
    "        x = self.decoder(x)\n",
    "        decoded = self.unflatten(x)\n",
    "        return decoded\n",
    "\n",
    "    def forward(self, x):\n",
    "        return self.decode( self.encode(x) )"
   ]
  },
  {
   "cell_type": "code",
   "execution_count": null,
   "id": "d0976556-9ea9-45c9-a1a4-9cec2405c4d0",
   "metadata": {
    "jupyter": {
     "source_hidden": true
    }
   },
   "outputs": [],
   "source": [
    "# OUTDATED\n",
    "\n",
    "import torch.nn.functional as F\n",
    "\n",
    "class SmallMNISTCNN(nn.Module):\n",
    "    def __init__(self):\n",
    "        super().__init__()\n",
    "        self.conv1 = nn.Conv2d(1, 16, kernel_size=3, padding=1)\n",
    "        self.conv2 = nn.Conv2d(16, 32, kernel_size=3, padding=1)\n",
    "        self.pool = nn.MaxPool2d(2, 2)\n",
    "        self.fc1 = nn.Linear(32 * 7 * 7, 128)\n",
    "        self.fc2 = nn.Linear(128, 10)\n",
    "        self.dropout = nn.Dropout(0.25)\n",
    "        self.batchnorm1 = nn.BatchNorm2d(16)\n",
    "        self.batchnorm2 = nn.BatchNorm2d(32)\n",
    "\n",
    "    def forward(self, x):\n",
    "        x = self.pool(F.relu(self.batchnorm1(self.conv1(x))))\n",
    "        x = self.pool(F.relu(self.batchnorm2(self.conv2(x))))\n",
    "        x = x.view(-1, 32 * 7 * 7)\n",
    "        x = F.relu(self.fc1(x))\n",
    "        x = self.dropout(x)\n",
    "        x = self.fc2(x)\n",
    "        return x"
   ]
  },
  {
   "cell_type": "code",
   "execution_count": 35,
   "id": "07a4ab84-f731-4f14-986d-8c89d49765a0",
   "metadata": {},
   "outputs": [
    {
     "name": "stdout",
     "output_type": "stream",
     "text": [
      "AutoencoderMNIST(\n",
      "  (flatten): Flatten(start_dim=1, end_dim=-1)\n",
      "  (unflatten): Unflatten(dim=1, unflattened_size=(1, 28, 28))\n",
      "  (encoder): Sequential(\n",
      "    (0): Linear(in_features=784, out_features=512, bias=True)\n",
      "    (1): ReLU()\n",
      "    (2): Linear(in_features=512, out_features=512, bias=True)\n",
      "    (3): ReLU()\n",
      "    (4): Linear(in_features=512, out_features=10, bias=True)\n",
      "  )\n",
      "  (decoder): Sequential(\n",
      "    (0): Linear(in_features=10, out_features=512, bias=True)\n",
      "    (1): ReLU()\n",
      "    (2): Linear(in_features=512, out_features=512, bias=True)\n",
      "    (3): ReLU()\n",
      "    (4): Linear(in_features=512, out_features=784, bias=True)\n",
      "    (5): Sigmoid()\n",
      "  )\n",
      ")\n"
     ]
    }
   ],
   "source": [
    "#model = ClassicMNIST().to(device)\n",
    "model = AutoencoderMNIST().to(device)\n",
    "print(model)\n",
    "\n",
    "loss_fn = nn.MSELoss()\n",
    "optimizer = torch.optim.Adam(model.parameters(), lr=1e-3)"
   ]
  },
  {
   "cell_type": "code",
   "execution_count": 29,
   "id": "fb5a69d5-4d56-4ac9-9bc6-21f854d912a5",
   "metadata": {},
   "outputs": [],
   "source": [
    "def train(dataloader, model, loss_fn, optimizer):\n",
    "    size = len(dataloader.dataset)\n",
    "    model.train()\n",
    "    for batch, (X, y) in enumerate(dataloader):\n",
    "        X = X.to(device)\n",
    "\n",
    "        # Compute prediction error\n",
    "        pred = model(X)\n",
    "        loss = loss_fn(pred, X)\n",
    "\n",
    "        # Backpropagation\n",
    "        loss.backward()\n",
    "        optimizer.step()\n",
    "        optimizer.zero_grad()\n",
    "\n",
    "        if batch % 100 == 0:\n",
    "            loss, current = loss.item(), (batch + 1) * len(X)\n",
    "            print(f\"loss: {loss:>7f}  [{current:>5d}/{size:>5d}]\")"
   ]
  },
  {
   "cell_type": "code",
   "execution_count": null,
   "id": "e9f59907-f674-4ee1-a7ab-20a67bf41049",
   "metadata": {
    "jupyter": {
     "source_hidden": true
    }
   },
   "outputs": [],
   "source": [
    "# DON'T NEED THIS\n",
    "\n",
    "def test(dataloader, model, loss_fn):\n",
    "    size = len(dataloader.dataset)\n",
    "    num_batches = len(dataloader)\n",
    "    model.eval()\n",
    "    test_loss, correct = 0, 0\n",
    "    with torch.no_grad():\n",
    "        for X, y in dataloader:\n",
    "            X = X.to(device)\n",
    "            pred = model(X)\n",
    "            test_loss += loss_fn(pred, X).item()\n",
    "    test_loss /= num_batches\n",
    "    print(f\"Avg loss: {test_loss:>8f}\")"
   ]
  },
  {
   "cell_type": "code",
   "execution_count": 36,
   "id": "a7afb773-8fd9-414a-ab9f-f47b27bb8a19",
   "metadata": {},
   "outputs": [
    {
     "name": "stdout",
     "output_type": "stream",
     "text": [
      "Epoch 1\n",
      "-------------------------------\n",
      "loss: 0.231288  [   64/60000]\n",
      "loss: 0.061588  [ 6464/60000]\n",
      "loss: 0.038172  [12864/60000]\n",
      "loss: 0.036706  [19264/60000]\n",
      "loss: 0.031250  [25664/60000]\n",
      "loss: 0.026985  [32064/60000]\n",
      "loss: 0.023372  [38464/60000]\n",
      "loss: 0.024661  [44864/60000]\n",
      "loss: 0.021263  [51264/60000]\n",
      "loss: 0.021360  [57664/60000]\n",
      "Epoch 2\n",
      "-------------------------------\n",
      "loss: 0.022253  [   64/60000]\n",
      "loss: 0.018342  [ 6464/60000]\n",
      "loss: 0.018256  [12864/60000]\n",
      "loss: 0.019577  [19264/60000]\n",
      "loss: 0.018686  [25664/60000]\n",
      "loss: 0.019331  [32064/60000]\n",
      "loss: 0.017431  [38464/60000]\n",
      "loss: 0.019229  [44864/60000]\n",
      "loss: 0.016991  [51264/60000]\n",
      "loss: 0.017491  [57664/60000]\n",
      "Epoch 3\n",
      "-------------------------------\n",
      "loss: 0.018366  [   64/60000]\n",
      "loss: 0.015515  [ 6464/60000]\n",
      "loss: 0.015419  [12864/60000]\n",
      "loss: 0.016533  [19264/60000]\n",
      "loss: 0.016513  [25664/60000]\n",
      "loss: 0.017447  [32064/60000]\n",
      "loss: 0.015241  [38464/60000]\n",
      "loss: 0.017412  [44864/60000]\n",
      "loss: 0.015272  [51264/60000]\n",
      "loss: 0.016166  [57664/60000]\n",
      "Epoch 4\n",
      "-------------------------------\n",
      "loss: 0.015924  [   64/60000]\n",
      "loss: 0.014006  [ 6464/60000]\n",
      "loss: 0.014009  [12864/60000]\n",
      "loss: 0.015498  [19264/60000]\n",
      "loss: 0.015351  [25664/60000]\n",
      "loss: 0.016471  [32064/60000]\n",
      "loss: 0.013973  [38464/60000]\n",
      "loss: 0.016211  [44864/60000]\n",
      "loss: 0.014247  [51264/60000]\n",
      "loss: 0.015416  [57664/60000]\n",
      "Epoch 5\n",
      "-------------------------------\n",
      "loss: 0.014802  [   64/60000]\n",
      "loss: 0.013160  [ 6464/60000]\n",
      "loss: 0.013238  [12864/60000]\n",
      "loss: 0.014959  [19264/60000]\n",
      "loss: 0.014512  [25664/60000]\n",
      "loss: 0.015616  [32064/60000]\n",
      "loss: 0.013404  [38464/60000]\n",
      "loss: 0.015406  [44864/60000]\n",
      "loss: 0.013606  [51264/60000]\n",
      "loss: 0.014610  [57664/60000]\n",
      "Done!\n"
     ]
    }
   ],
   "source": [
    "epochs = 5\n",
    "for t in range(epochs):\n",
    "    print(f\"Epoch {t+1}\\n-------------------------------\")\n",
    "    train(dataloader, model, loss_fn, optimizer)\n",
    "print(\"Done!\")"
   ]
  },
  {
   "cell_type": "code",
   "execution_count": null,
   "id": "f52460cc-087f-4b2e-91fa-2312b06e52c9",
   "metadata": {
    "jupyter": {
     "source_hidden": true
    }
   },
   "outputs": [],
   "source": [
    "torch.save(model.state_dict(), \"model.pth\")\n",
    "print(\"Saved PyTorch Model State to model.pth\")"
   ]
  },
  {
   "cell_type": "code",
   "execution_count": null,
   "id": "dd6a959a-2935-457d-ac3b-d7fa090ed669",
   "metadata": {
    "jupyter": {
     "source_hidden": true
    }
   },
   "outputs": [],
   "source": [
    "model = NeuralNetwork().to(device)\n",
    "model.load_state_dict(torch.load(\"model.pth\", weights_only=True))"
   ]
  },
  {
   "cell_type": "code",
   "execution_count": 40,
   "id": "bd7c7e52-8fff-4bf6-9b87-20807f58ffa9",
   "metadata": {
    "scrolled": true
   },
   "outputs": [
    {
     "name": "stdout",
     "output_type": "stream",
     "text": [
      "torch.Size([1, 10])\n",
      "torch.Size([1, 10])\n",
      "torch.Size([1, 10])\n",
      "torch.Size([1, 10])\n",
      "torch.Size([1, 10])\n",
      "torch.Size([1, 10])\n",
      "torch.Size([1, 10])\n",
      "torch.Size([1, 10])\n",
      "torch.Size([1, 10])\n",
      "torch.Size([1, 10])\n"
     ]
    },
    {
     "data": {
      "image/png": "[encoded data removed]",
      "text/plain": [
       "<Figure size 640x480 with 30 Axes>"
      ]
     },
     "metadata": {},
     "output_type": "display_data"
    }
   ],
   "source": [
    "# Show some examples of the dataset\n",
    "\n",
    "model.eval()\n",
    "(fig,ax) = plt.subplots(3, 10, constrained_layout=True)\n",
    "ds = full_dataset\n",
    "for j in range(10):\n",
    "    x, _ = ds[j]\n",
    "    x = x[None,:].to(device)\n",
    "    with torch.no_grad():\n",
    "        z = model.encode(x)\n",
    "        print(z.shape)\n",
    "        y = model.decode(z)\n",
    "    \n",
    "    ax[0,j].imshow(ds[j][0][0], cmap=\"gray\")\n",
    "    ax[0,j].set_axis_off()\n",
    "    ax[1,j].imshow(z[None,0].cpu(), cmap=\"gray\")\n",
    "    ax[1,j].set_axis_off()\n",
    "    ax[2,j].imshow(y[0][0].cpu(), cmap=\"gray\")\n",
    "    ax[2,j].set_axis_off()\n",
    "    \n",
    "plt.axis('off')\n",
    "plt.show()"
   ]
  },
  {
   "cell_type": "code",
   "execution_count": 98,
   "id": "2cca9614-44b4-4470-a6ad-e442a488ca80",
   "metadata": {},
   "outputs": [],
   "source": [
    "# determine mean and covariance of encoded data\n",
    "\n",
    "all_data = torch.stack([x for (x,_) in full_dataset])\n",
    "all_data = all_data.to(device)\n",
    "\n",
    "model.eval()\n",
    "with torch.no_grad():\n",
    "    out = model.encode(all_data)\n",
    "    out = out.cpu()\n",
    "\n",
    "u = torch.mean(out,0)\n",
    "S = torch.cov(out.T)\n",
    "\n",
    "(L,Q)=torch.linalg.eigh(S)"
   ]
  },
  {
   "cell_type": "code",
   "execution_count": null,
   "id": "b90a5258-18f8-4b9d-8719-7992165790a3",
   "metadata": {},
   "outputs": [],
   "source": []
  },
  {
   "cell_type": "code",
   "execution_count": null,
   "id": "721e9d4f-6503-4ced-b85a-3b70843dd5c2",
   "metadata": {},
   "outputs": [],
   "source": []
  },
  {
   "cell_type": "code",
   "execution_count": 120,
   "id": "c8411c2f-8463-4ec9-a2e6-f4eea8b1de70",
   "metadata": {},
   "outputs": [
    {
     "data": {
      "image/png": "[encoded data removed]",
      "text/plain": [
       "<Figure size 640x480 with 20 Axes>"
      ]
     },
     "metadata": {},
     "output_type": "display_data"
    }
   ],
   "source": [
    "# generate some images from random encoded data\n",
    "\n",
    "model.eval()\n",
    "(fig,ax) = plt.subplots(2, 10, constrained_layout=True)\n",
    "for j in range(10):\n",
    "    z = torch.randn(10)\n",
    "    z = u + Q@torch.sqrt(L)*z\n",
    "    z = z[None,:].to(device)\n",
    "\n",
    "    with torch.no_grad():\n",
    "        y = model.decode(z)\n",
    "    \n",
    "    ax[0,j].imshow(z[None,0].cpu(), cmap=\"gray\")\n",
    "    ax[0,j].set_axis_off()\n",
    "    ax[1,j].imshow(y[0][0].cpu(), cmap=\"gray\")\n",
    "    ax[1,j].set_axis_off()\n",
    "    \n",
    "plt.axis('off')\n",
    "plt.show()"
   ]
  },
  {
   "cell_type": "code",
   "execution_count": null,
   "id": "067e2ae1-9998-4fcb-b6c3-c8dfcb02f120",
   "metadata": {},
   "outputs": [],
   "source": []
  }
 ],
 "metadata": {
  "kernelspec": {
   "display_name": "Python 3 (ipykernel)",
   "language": "python",
   "name": "python3"
  },
  "language_info": {
   "codemirror_mode": {
    "name": "ipython",
    "version": 3
   },
   "file_extension": ".py",
   "mimetype": "text/x-python",
   "name": "python",
   "nbconvert_exporter": "python",
   "pygments_lexer": "ipython3",
   "version": "3.13.2"
  }
 },
 "nbformat": 4,
 "nbformat_minor": 5
}
