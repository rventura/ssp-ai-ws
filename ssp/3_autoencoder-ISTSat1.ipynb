{
 "cells": [
  {
   "cell_type": "code",
   "execution_count": null,
   "id": "75f49ce7-6f3e-4bd3-99bb-d73a854d0f33",
   "metadata": {},
   "outputs": [],
   "source": [
    "%matplotlib widget\n",
    "\n",
    "import numpy as np\n",
    "import matplotlib.pyplot as plt\n",
    "import torch\n",
    "from torch import nn\n",
    "from torch.utils.data import *\n",
    "from torchvision import datasets\n",
    "from torchvision.transforms import *"
   ]
  },
  {
   "cell_type": "code",
   "execution_count": null,
   "id": "ac6859db-e861-4c3f-931d-f2cfb53e724d",
   "metadata": {},
   "outputs": [],
   "source": [
    "# Download ISTSat1 attitude dataset\n",
    "\n",
    "DATAFILE1 = 'data/istsat1/NoSensorFault.csv'\n",
    "DATAFILE2 = 'data/istsat1/SensorFault20000_25000.csv'\n",
    "\n",
    "raw = np.loadtxt(DATAFILE2, delimiter=',')\n",
    "print(f\"Loaded {len(raw)} telemetry datapoints\")\n",
    "\n",
    "plt.figure()\n",
    "for i in range(4):\n",
    "    plt.plot(raw[:,1+i])\n",
    "plt.show()"
   ]
  },
  {
   "cell_type": "code",
   "execution_count": null,
   "id": "b83cc51a-9ebf-441f-aa88-8d3d19acc2a6",
   "metadata": {},
   "outputs": [],
   "source": [
    "WINDOW = 60\n",
    "STRIDE = 1\n",
    "\n",
    "class ISTSat1Dataset(Dataset):\n",
    "    \n",
    "    def __init__(self, raw_data):\n",
    "        self.data = torch.tensor(raw_data, dtype=torch.float32)\n",
    "        self.total = self.data.shape[0]\n",
    "        self.size = 1 + int((self.total - WINDOW)/STRIDE)\n",
    "\n",
    "    def __len__(self):\n",
    "        return self.size\n",
    "\n",
    "    def __getitem__(self, i):\n",
    "        a = i * STRIDE\n",
    "        b = a + WINDOW\n",
    "        return self.data[a:b,1:5]\n",
    "\n",
    "train_dataset = ISTSat1Dataset(raw[4000:])\n",
    "print(f\"Using {len(train_dataset)} windows for training.\")\n",
    "\n",
    "test_dataset = ISTSat1Dataset(raw[400:4000])\n",
    "print(f\"Using {len(test_dataset)} windows for testing.\")\n",
    "# Fault should be 1600:2100 in raw data index\n",
    "# that is the same in windows (stride=1)\n"
   ]
  },
  {
   "cell_type": "code",
   "execution_count": null,
   "id": "a07c8ea7-4d8a-4d6b-9455-581ba1865502",
   "metadata": {},
   "outputs": [],
   "source": [
    "# Show some examples of the dataset\n",
    "\n",
    "(fig,ax) = plt.subplots(2, 5, constrained_layout=True)\n",
    "for (i,d) in enumerate([train_dataset, test_dataset]):\n",
    "    for j in range(5):\n",
    "        r = np.random.randint(len(d))\n",
    "        for k in range(4):\n",
    "            ax[i,j].plot(d[r][:,k])\n",
    "        ax[i,j].set_axis_off()\n",
    "plt.show()"
   ]
  },
  {
   "cell_type": "code",
   "execution_count": null,
   "id": "28d0b60a-299f-4f3a-be27-f1bf6fa4b19d",
   "metadata": {},
   "outputs": [],
   "source": [
    "batch_size = 64\n",
    "\n",
    "# Create data loaders.\n",
    "train_dataloader = DataLoader(train_dataset, batch_size=batch_size)\n",
    "test_dataloader = DataLoader(test_dataset, batch_size=batch_size)\n",
    "\n",
    "for X in train_dataloader:\n",
    "    print(f\"Shape of X: {X.shape}\")\n",
    "    break"
   ]
  },
  {
   "cell_type": "code",
   "execution_count": null,
   "id": "c3f2f8ee-48b4-47d5-a848-19b5c7bd4de3",
   "metadata": {},
   "outputs": [],
   "source": [
    "device = torch.accelerator.current_accelerator().type if torch.accelerator.is_available() else \"cpu\"\n",
    "print(f\"Using {device} device\")"
   ]
  },
  {
   "cell_type": "code",
   "execution_count": null,
   "id": "e5c3a115-f2e8-41f0-a24d-7f59e07f7248",
   "metadata": {
    "jupyter": {
     "source_hidden": true
    }
   },
   "outputs": [],
   "source": [
    "class Autoencoder1(nn.Module):\n",
    "    bottleneck = 128\n",
    "    \n",
    "    def __init__(self):\n",
    "        super().__init__()\n",
    "        self.flatten = nn.Flatten()\n",
    "        self.unflatten = nn.Unflatten(1, (WINDOW,4))\n",
    "        self.encoder = nn.Sequential(\n",
    "            nn.Linear(WINDOW*4, 1024),\n",
    "            nn.ReLU(),\n",
    "            nn.Linear(1024, 512),\n",
    "            nn.ReLU(),\n",
    "            nn.Linear(512, 256),\n",
    "            nn.ReLU(),\n",
    "            nn.Linear(256, self.bottleneck)\n",
    "        )\n",
    "        self.decoder = nn.Sequential(\n",
    "            nn.Linear(self.bottleneck, 256),\n",
    "            nn.ReLU(),\n",
    "            nn.Linear(256, 512),\n",
    "            nn.ReLU(),\n",
    "            nn.Linear(512, 1024),\n",
    "            nn.ReLU(),\n",
    "            nn.Linear(1024, WINDOW*4),\n",
    "        )\n",
    "\n",
    "    def preprocess(self, x):\n",
    "        return x\n",
    "    \n",
    "    def encode(self, x):\n",
    "        x = self.flatten(x)\n",
    "        coded = self.encoder(x)\n",
    "        return coded\n",
    "\n",
    "    def decode(self, x):\n",
    "        x = self.decoder(x)\n",
    "        decoded = self.unflatten(x)\n",
    "        return decoded\n",
    "\n",
    "    def forward(self, x):\n",
    "        return self.decode( self.encode(x) )"
   ]
  },
  {
   "cell_type": "code",
   "execution_count": null,
   "id": "e7e62fb8-bc80-4911-8f25-50092eea21bb",
   "metadata": {
    "jupyter": {
     "source_hidden": true
    }
   },
   "outputs": [],
   "source": [
    "class Autoencoder2(nn.Module):\n",
    "    bottleneck = 128\n",
    "    \n",
    "    def __init__(self):\n",
    "        super().__init__()\n",
    "\n",
    "        self.encoder = nn.Sequential(\n",
    "            nn.Conv1d(4, 16, kernel_size=3, stride=1, padding=1),\n",
    "            nn.ReLU(),\n",
    "            nn.Conv1d(16, 32, kernel_size=3, stride=1, padding=1),\n",
    "            nn.ReLU(),\n",
    "            nn.Flatten(),\n",
    "            nn.Linear(32*WINDOW, 1024),\n",
    "            nn.ReLU(),\n",
    "            nn.Linear(1024, 512),\n",
    "            nn.ReLU(),\n",
    "            nn.Linear(512, 256),\n",
    "            nn.ReLU(),\n",
    "            nn.Linear(256, self.bottleneck)\n",
    "        )\n",
    "        self.decoder = nn.Sequential(\n",
    "            nn.Linear(self.bottleneck, 256),\n",
    "            nn.ReLU(),\n",
    "            nn.Linear(256, 512),\n",
    "            nn.ReLU(),\n",
    "            nn.Linear(512, 1024),\n",
    "            nn.ReLU(),\n",
    "            nn.Linear(1024, 32*WINDOW//4),\n",
    "            nn.ReLU(),\n",
    "            nn.Unflatten(1, (32,WINDOW//4)),\n",
    "            nn.ConvTranspose1d(32, 16, kernel_size=2, stride=2),\n",
    "            nn.ReLU(),\n",
    "            nn.ConvTranspose1d(16, 4, kernel_size=2, stride=2),\n",
    "        )\n",
    "\n",
    "    def preprocess(self, x):\n",
    "        return x\n",
    "    \n",
    "    def encode(self, x):\n",
    "        x = torch.permute(x, (0,2,1))\n",
    "        coded = self.encoder(x)\n",
    "        return coded\n",
    "\n",
    "    def decode(self, x):\n",
    "        y = self.decoder(x)\n",
    "        return torch.permute(y, (0,2,1))\n",
    "\n",
    "    def forward(self, x):\n",
    "        return self.decode( self.encode(x) )"
   ]
  },
  {
   "cell_type": "code",
   "execution_count": null,
   "id": "d0976556-9ea9-45c9-a1a4-9cec2405c4d0",
   "metadata": {
    "jupyter": {
     "source_hidden": true
    }
   },
   "outputs": [],
   "source": [
    "# TO BE UPDATED\n",
    "\n",
    "class ConvAutoencoderMNIST(nn.Module):\n",
    "    bottleneck = 10\n",
    "    \n",
    "    def __init__(self):\n",
    "        super().__init__()\n",
    "        self.encoder = nn.Sequential(\n",
    "            nn.Conv2d(1, 16, kernel_size=3, stride=1, padding=1),\n",
    "            nn.ReLU(),\n",
    "            nn.MaxPool2d(kernel_size=2, stride=2),\n",
    "            nn.Conv2d(16, 32, kernel_size=3, stride=1, padding=1),\n",
    "            nn.ReLU(),\n",
    "            nn.MaxPool2d(kernel_size=2, stride=2)\n",
    "        )\n",
    "        self.decoder = nn.Sequential(\n",
    "            nn.ConvTranspose2d(32, 16, kernel_size=2, stride=2),\n",
    "            nn.ReLU(),\n",
    "            nn.ConvTranspose2d(16, 1, kernel_size=2, stride=2),\n",
    "            nn.Sigmoid() # Output should be in the range [0, 1]\n",
    "        )\n",
    "\n",
    "    def encode(self, x):\n",
    "        coded = self.encoder(x)\n",
    "        return coded\n",
    "\n",
    "    def decode(self, x):\n",
    "        decoded = self.decoder(x)\n",
    "        return decoded\n",
    "\n",
    "    def forward(self, x):\n",
    "        return self.decode( self.encode(x) )"
   ]
  },
  {
   "cell_type": "code",
   "execution_count": null,
   "id": "d038b551-8629-4304-8bb1-07617dc8dc60",
   "metadata": {},
   "outputs": [],
   "source": [
    "model = Autoencoder1().to(device)\n",
    "print(model)\n",
    "\n",
    "loss_fn = nn.MSELoss()\n",
    "optimizer = torch.optim.Adam(model.parameters(), lr=1e-3)"
   ]
  },
  {
   "cell_type": "code",
   "execution_count": null,
   "id": "fb5a69d5-4d56-4ac9-9bc6-21f854d912a5",
   "metadata": {},
   "outputs": [],
   "source": [
    "def train(dataloader, model, loss_fn, optimizer):\n",
    "    size = len(dataloader.dataset)\n",
    "    model.train()\n",
    "    for batch, X in enumerate(dataloader):\n",
    "        X = X.to(device)\n",
    "\n",
    "        # Compute prediction error\n",
    "        Z = model.preprocess(X)\n",
    "        pred = model(Z)\n",
    "        loss = loss_fn(pred, Z)\n",
    "\n",
    "        # Backpropagation\n",
    "        loss.backward()\n",
    "        optimizer.step()\n",
    "        optimizer.zero_grad()\n",
    "\n",
    "        if batch % 10 == 0:\n",
    "            loss, current = loss.item(), (batch + 1) * len(X)\n",
    "            print(f\"loss: {loss:>7f}  [{current:>5d}/{size:>5d}]\")"
   ]
  },
  {
   "cell_type": "code",
   "execution_count": null,
   "id": "a7afb773-8fd9-414a-ab9f-f47b27bb8a19",
   "metadata": {},
   "outputs": [],
   "source": [
    "epochs = 10\n",
    "for t in range(epochs):\n",
    "    print(f\"Epoch {t+1}\\n-------------------------------\")\n",
    "    train(train_dataloader, model, loss_fn, optimizer)\n",
    "print(\"Done!\")"
   ]
  },
  {
   "cell_type": "code",
   "execution_count": null,
   "id": "f52460cc-087f-4b2e-91fa-2312b06e52c9",
   "metadata": {
    "jupyter": {
     "source_hidden": true
    }
   },
   "outputs": [],
   "source": [
    "# Use this cell to save the model to a file\n",
    "torch.save(model.state_dict(), \"model.pth\")\n",
    "print(\"Saved PyTorch Model State to model.pth\")"
   ]
  },
  {
   "cell_type": "code",
   "execution_count": null,
   "id": "dd6a959a-2935-457d-ac3b-d7fa090ed669",
   "metadata": {
    "jupyter": {
     "source_hidden": true
    }
   },
   "outputs": [],
   "source": [
    "# Use this cell to load a model from a file\n",
    "model = NeuralNetwork().to(device)\n",
    "model.load_state_dict(torch.load(\"model.pth\", weights_only=True))"
   ]
  },
  {
   "cell_type": "code",
   "execution_count": null,
   "id": "bd7c7e52-8fff-4bf6-9b87-20807f58ffa9",
   "metadata": {},
   "outputs": [],
   "source": [
    "# Show some examples of the dataset\n",
    "\n",
    "model.eval()\n",
    "(fig,ax) = plt.subplots(3, 5, constrained_layout=True)\n",
    "ds = train_dataset\n",
    "for j in range(5):\n",
    "    r = np.random.randint(len(ds))\n",
    "    x = ds[r]\n",
    "    x = x[None,:].to(device)\n",
    "    with torch.no_grad():\n",
    "        y = model(x)\n",
    "        # normalization to unit quaternions\n",
    "        n = torch.sqrt(torch.sum(y**2, dim=2))\n",
    "        y = y / n[:,:,None]\n",
    "\n",
    "    for k in range(4):\n",
    "        ax[0,j].plot(ds[r][:,k])\n",
    "    ax[0,j].set_axis_off()\n",
    "    ax[1,j].imshow(z[None,0].cpu(), cmap=\"gray\")\n",
    "    ax[1,j].set_axis_off()\n",
    "    y = y.cpu()\n",
    "    for k in range(4):\n",
    "        ax[2,j].plot(y[0,:,k])\n",
    "    ax[2,j].set_axis_off()\n",
    "    \n",
    "plt.axis('off')\n",
    "plt.show()"
   ]
  },
  {
   "cell_type": "code",
   "execution_count": null,
   "id": "aad37323-18d0-4673-b422-673b316534ad",
   "metadata": {},
   "outputs": [],
   "source": [
    "ds = test_dataset\n",
    "\n",
    "all_data = torch.stack([ds[i] for i in range(len(ds))])\n",
    "all_data_d = all_data.to(device)\n",
    "\n",
    "model.eval()\n",
    "with torch.no_grad():\n",
    "    y = model(all_data_d)\n",
    "    # normalization to unit quaternions\n",
    "    n = torch.sqrt(torch.sum(y**2, dim=2))\n",
    "    y = y / n[:,:,None]\n",
    "    y = y.cpu()\n",
    "\n",
    "rlosses = torch.sum((y - all_data)**2, dim=(1,2))\n",
    "\n",
    "plt.figure()\n",
    "plt.plot(rlosses)\n",
    "plt.show()\n"
   ]
  },
  {
   "cell_type": "code",
   "execution_count": null,
   "id": "0276c97e-e3ce-4f8b-a091-227b552854ce",
   "metadata": {},
   "outputs": [],
   "source": [
    "class Autoencoder3(nn.Module):\n",
    "    \n",
    "    def __init__(self):\n",
    "        super().__init__()\n",
    "\n",
    "        self.cnn = nn.Sequential(\n",
    "            nn.Conv1d(4, 16, kernel_size=3, stride=1, padding=1),\n",
    "            nn.ReLU(),\n",
    "            nn.Conv1d(16, 32, kernel_size=3, stride=1, padding=1),\n",
    "            nn.ReLU(),\n",
    "            nn.Flatten(),\n",
    "            nn.Linear(32*WINDOW, 1024),\n",
    "            nn.ReLU(),\n",
    "            nn.Linear(1024, 512),\n",
    "            nn.ReLU(),\n",
    "            nn.Linear(512, 256),\n",
    "            nn.ReLU()\n",
    "        )\n",
    "\n",
    "        self.encoder = nn.Sequential(\n",
    "            nn.Linear(256, 64),\n",
    "            nn.ReLU(),\n",
    "            nn.Linear(64, 16),\n",
    "        )\n",
    "\n",
    "        self.decoder = nn.Sequential(\n",
    "            nn.Linear(16, 64),\n",
    "            nn.ReLU(),\n",
    "            nn.Linear(64, 256)\n",
    "        )\n",
    "\n",
    "    def preprocess(self, x):\n",
    "        x = torch.permute(x, (0,2,1))\n",
    "        y = self.cnn(x)\n",
    "        return y\n",
    "    \n",
    "    def encode(self, x):\n",
    "        coded = self.encoder(x)\n",
    "        return coded\n",
    "\n",
    "    def decode(self, x):\n",
    "        decoded = self.decoder(x)\n",
    "        return decoded\n",
    "\n",
    "    def forward(self, x):\n",
    "        return self.decode( self.encode(x) )"
   ]
  },
  {
   "cell_type": "code",
   "execution_count": null,
   "id": "1efbe4c5-c8a8-4af5-97d8-02c6c02ab638",
   "metadata": {},
   "outputs": [],
   "source": [
    "model = Autoencoder3().to(device)\n",
    "print(model)\n",
    "\n",
    "loss_fn = nn.MSELoss()\n",
    "optimizer = torch.optim.Adam(model.parameters(), lr=1e-3)"
   ]
  },
  {
   "cell_type": "code",
   "execution_count": null,
   "id": "0389a242-5986-4fbe-9701-2ef8aa434864",
   "metadata": {},
   "outputs": [],
   "source": [
    "epochs = 10\n",
    "for t in range(epochs):\n",
    "    print(f\"Epoch {t+1}\\n-------------------------------\")\n",
    "    train(train_dataloader, model, loss_fn, optimizer)\n",
    "print(\"Done!\")"
   ]
  },
  {
   "cell_type": "code",
   "execution_count": null,
   "id": "2692d711-c9d9-4607-bc96-9004a142bd9c",
   "metadata": {},
   "outputs": [],
   "source": [
    "ds = test_dataset\n",
    "\n",
    "all_data = torch.stack([ds[i] for i in range(len(ds))])\n",
    "all_data_d = all_data.to(device)\n",
    "\n",
    "model.eval()\n",
    "with torch.no_grad():\n",
    "    z = model.preprocess(all_data_d)\n",
    "    y = model.decode(model.encode(z))\n",
    "    y = y.cpu()\n",
    "    z = z.cpu()\n",
    "\n",
    "rlosses = torch.sum((y - z)**2, dim=1)\n",
    "\n",
    "plt.figure()\n",
    "plt.plot(rlosses)\n",
    "plt.show()\n"
   ]
  },
  {
   "cell_type": "code",
   "execution_count": null,
   "id": "7faeb57b-7f05-4186-8162-afdbf51bbf99",
   "metadata": {},
   "outputs": [],
   "source": []
  }
 ],
 "metadata": {
  "kernelspec": {
   "display_name": "Python 3 (ipykernel)",
   "language": "python",
   "name": "python3"
  },
  "language_info": {
   "codemirror_mode": {
    "name": "ipython",
    "version": 3
   },
   "file_extension": ".py",
   "mimetype": "text/x-python",
   "name": "python",
   "nbconvert_exporter": "python",
   "pygments_lexer": "ipython3",
   "version": "3.13.3"
  }
 },
 "nbformat": 4,
 "nbformat_minor": 5
}
