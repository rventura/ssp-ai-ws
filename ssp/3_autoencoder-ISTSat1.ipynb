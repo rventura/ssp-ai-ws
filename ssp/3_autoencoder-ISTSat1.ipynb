{
 "cells": [
  {
   "cell_type": "code",
   "execution_count": null,
   "id": "75f49ce7-6f3e-4bd3-99bb-d73a854d0f33",
   "metadata": {},
   "outputs": [],
   "source": [
    "%matplotlib widget\n",
    "\n",
    "import matplotlib.pyplot as plt\n",
    "import torch\n",
    "from torch import nn\n",
    "from torch.utils.data import *\n",
    "from torchvision import datasets\n",
    "from torchvision.transforms import *"
   ]
  },
  {
   "cell_type": "code",
   "execution_count": null,
   "id": "5488a756-f1c7-43a5-9144-d324f4164b5f",
   "metadata": {},
   "outputs": [],
   "source": [
    "# Download ISTSat1 attitude dataset\n",
    "DATAFILE1 = 'data/istsat1/NoSensorFault.csv'\n",
    "\n",
    "import numpy as np\n",
    "\n",
    "data_tensor = torch.tensor(np.loadtxt(DATAFILE, delimiter=',')[:,1:])\n",
    "data_tensor.shape"
   ]
  },
  {
   "cell_type": "code",
   "execution_count": null,
   "id": "ac6859db-e861-4c3f-931d-f2cfb53e724d",
   "metadata": {},
   "outputs": [],
   "source": [
    "# Download ISTSat1 attitude dataset\n",
    "\n",
    "DATAFILE1 = 'data/istsat1/NoSensorFault.csv'\n",
    "DATAFILE2 = 'data/istsat1/SensorFault20000_25000.csv'\n",
    "\n",
    "import numpy as np\n",
    "\n",
    "class ISTSat1Dataset(Dataset):\n",
    "    window = 100\n",
    "    stride = 50\n",
    "    \n",
    "    def __init__(self, filename):\n",
    "        raw = np.loadtxt(filename, delimiter=',')\n",
    "        self.data = torch.tensor(raw[600:])  # HACK: cutting first 6000 secs due to detumbling\n",
    "        self.total = self.data.shape[0]\n",
    "        self.size = 1 + int((self.total - self.window)/self.stride)\n",
    "\n",
    "    def __len__(self):\n",
    "        return self.size\n",
    "\n",
    "    def __getitem__(self, i):\n",
    "        a = i * self.stride\n",
    "        b = a + self.window\n",
    "        return self.data[a:b,1:5]\n",
    "\n",
    "dataset1 = ISTSat1Dataset(DATAFILE1)\n",
    "print(f\"Loaded {DATAFILE1}: {len(dataset1)} data points (windows)\")\n",
    "\n",
    "dataset2 = ISTSat1Dataset(DATAFILE2)\n",
    "print(f\"Loaded {DATAFILE2}: {len(dataset2)} data points (windows)\")"
   ]
  },
  {
   "cell_type": "code",
   "execution_count": null,
   "id": "a07c8ea7-4d8a-4d6b-9455-581ba1865502",
   "metadata": {},
   "outputs": [],
   "source": [
    "# Show some examples of the dataset\n",
    "\n",
    "(fig,ax) = plt.subplots(2, 5, constrained_layout=True)\n",
    "for (i,d) in enumerate([dataset1, dataset2]):\n",
    "    for j in range(5):\n",
    "        for k in range(4):\n",
    "            ax[i,j].plot(d[j][:,k])\n",
    "        ax[i,j].set_axis_off()\n",
    "plt.show()"
   ]
  },
  {
   "cell_type": "code",
   "execution_count": null,
   "id": "28d0b60a-299f-4f3a-be27-f1bf6fa4b19d",
   "metadata": {},
   "outputs": [],
   "source": [
    "batch_size = 32\n",
    "\n",
    "# Create data loaders.\n",
    "dataloader1 = DataLoader(dataset1, batch_size=batch_size)\n",
    "dataloader2 = DataLoader(dataset2, batch_size=batch_size)\n",
    "\n",
    "# DELME\n",
    "for X in dataloader1:\n",
    "    print(f\"Shape of X: {X.shape}\")\n",
    "    break"
   ]
  },
  {
   "cell_type": "code",
   "execution_count": null,
   "id": "c3f2f8ee-48b4-47d5-a848-19b5c7bd4de3",
   "metadata": {},
   "outputs": [],
   "source": [
    "device = torch.accelerator.current_accelerator().type if torch.accelerator.is_available() else \"cpu\"\n",
    "print(f\"Using {device} device\")"
   ]
  },
  {
   "cell_type": "code",
   "execution_count": null,
   "id": "e5c3a115-f2e8-41f0-a24d-7f59e07f7248",
   "metadata": {},
   "outputs": [],
   "source": [
    "# Define model\n",
    "class Autoencoder(nn.Module):\n",
    "    bottleneck = 10\n",
    "    \n",
    "    def __init__(self):\n",
    "        super().__init__()\n",
    "        self.flatten = nn.Flatten()\n",
    "        self.unflatten = nn.Unflatten(1, (100,4))\n",
    "        self.encoder = nn.Sequential(\n",
    "            nn.Linear(100*4, 512),\n",
    "            nn.ReLU(),\n",
    "            nn.Linear(512, 512),\n",
    "            nn.ReLU(),\n",
    "            nn.Linear(512, self.bottleneck)\n",
    "        )\n",
    "        self.decoder = nn.Sequential(\n",
    "            nn.Linear(self.bottleneck, 512),\n",
    "            nn.ReLU(),\n",
    "            nn.Linear(512, 512),\n",
    "            nn.ReLU(),\n",
    "            nn.Linear(512, 100*4),\n",
    "        )\n",
    "\n",
    "    def encode(self, x):\n",
    "        x = self.flatten(x)\n",
    "        coded = self.encoder(x)\n",
    "        return coded\n",
    "\n",
    "    def decode(self, x):\n",
    "        x = self.decoder(x)\n",
    "        decoded = self.unflatten(x)\n",
    "        return decoded\n",
    "\n",
    "    def forward(self, x):\n",
    "        return self.decode( self.encode(x) )"
   ]
  },
  {
   "cell_type": "code",
   "execution_count": null,
   "id": "d0976556-9ea9-45c9-a1a4-9cec2405c4d0",
   "metadata": {
    "jupyter": {
     "source_hidden": true
    }
   },
   "outputs": [],
   "source": [
    "# TO BE UPDATED\n",
    "\n",
    "class ConvAutoencoderMNIST(nn.Module):\n",
    "    bottleneck = 10\n",
    "    \n",
    "    def __init__(self):\n",
    "        super().__init__()\n",
    "        self.encoder = nn.Sequential(\n",
    "            nn.Conv2d(1, 16, kernel_size=3, stride=1, padding=1),\n",
    "            nn.ReLU(),\n",
    "            nn.MaxPool2d(kernel_size=2, stride=2),\n",
    "            nn.Conv2d(16, 32, kernel_size=3, stride=1, padding=1),\n",
    "            nn.ReLU(),\n",
    "            nn.MaxPool2d(kernel_size=2, stride=2)\n",
    "        )\n",
    "        self.decoder = nn.Sequential(\n",
    "            nn.ConvTranspose2d(32, 16, kernel_size=2, stride=2),\n",
    "            nn.ReLU(),\n",
    "            nn.ConvTranspose2d(16, 1, kernel_size=2, stride=2),\n",
    "            nn.Sigmoid() # Output should be in the range [0, 1]\n",
    "        )\n",
    "\n",
    "    def encode(self, x):\n",
    "        coded = self.encoder(x)\n",
    "        return coded\n",
    "\n",
    "    def decode(self, x):\n",
    "        decoded = self.decoder(x)\n",
    "        return decoded\n",
    "\n",
    "    def forward(self, x):\n",
    "        return self.decode( self.encode(x) )"
   ]
  },
  {
   "cell_type": "code",
   "execution_count": null,
   "id": "07a4ab84-f731-4f14-986d-8c89d49765a0",
   "metadata": {},
   "outputs": [],
   "source": [
    "#model = ClassicAutoencoderMNIST().to(device)\n",
    "model = ConvAutoencoderMNIST().to(device)\n",
    "print(model)\n",
    "\n",
    "loss_fn = nn.MSELoss()\n",
    "optimizer = torch.optim.Adam(model.parameters(), lr=1e-3)"
   ]
  },
  {
   "cell_type": "code",
   "execution_count": null,
   "id": "fb5a69d5-4d56-4ac9-9bc6-21f854d912a5",
   "metadata": {},
   "outputs": [],
   "source": [
    "def train(dataloader, model, loss_fn, optimizer):\n",
    "    size = len(dataloader.dataset)\n",
    "    model.train()\n",
    "    for batch, (X, y) in enumerate(dataloader):\n",
    "        X = X.to(device)\n",
    "\n",
    "        # Compute prediction error\n",
    "        pred = model(X)\n",
    "        loss = loss_fn(pred, X)\n",
    "\n",
    "        # Backpropagation\n",
    "        loss.backward()\n",
    "        optimizer.step()\n",
    "        optimizer.zero_grad()\n",
    "\n",
    "        if batch % 100 == 0:\n",
    "            loss, current = loss.item(), (batch + 1) * len(X)\n",
    "            print(f\"loss: {loss:>7f}  [{current:>5d}/{size:>5d}]\")"
   ]
  },
  {
   "cell_type": "code",
   "execution_count": null,
   "id": "a7afb773-8fd9-414a-ab9f-f47b27bb8a19",
   "metadata": {
    "scrolled": true
   },
   "outputs": [],
   "source": [
    "epochs = 5\n",
    "for t in range(epochs):\n",
    "    print(f\"Epoch {t+1}\\n-------------------------------\")\n",
    "    train(dataloader, model, loss_fn, optimizer)\n",
    "print(\"Done!\")"
   ]
  },
  {
   "cell_type": "code",
   "execution_count": null,
   "id": "f52460cc-087f-4b2e-91fa-2312b06e52c9",
   "metadata": {
    "jupyter": {
     "source_hidden": true
    }
   },
   "outputs": [],
   "source": [
    "torch.save(model.state_dict(), \"model.pth\")\n",
    "print(\"Saved PyTorch Model State to model.pth\")"
   ]
  },
  {
   "cell_type": "code",
   "execution_count": null,
   "id": "dd6a959a-2935-457d-ac3b-d7fa090ed669",
   "metadata": {
    "jupyter": {
     "source_hidden": true
    }
   },
   "outputs": [],
   "source": [
    "model = NeuralNetwork().to(device)\n",
    "model.load_state_dict(torch.load(\"model.pth\", weights_only=True))"
   ]
  },
  {
   "cell_type": "code",
   "execution_count": null,
   "id": "bd7c7e52-8fff-4bf6-9b87-20807f58ffa9",
   "metadata": {
    "scrolled": true
   },
   "outputs": [],
   "source": [
    "# Show some examples of the dataset\n",
    "\n",
    "model.eval()\n",
    "(fig,ax) = plt.subplots(3, 10, constrained_layout=True)\n",
    "ds = full_dataset\n",
    "for j in range(10):\n",
    "    x, _ = ds[j]\n",
    "    x = x[None,:].to(device)\n",
    "    with torch.no_grad():\n",
    "        z = model.encode(x)\n",
    "        print(z.shape)\n",
    "        y = model.decode(z)\n",
    "    \n",
    "    ax[0,j].imshow(ds[j][0][0], cmap=\"gray\")\n",
    "    ax[0,j].set_axis_off()\n",
    "    ax[1,j].imshow(z[None,0].cpu(), cmap=\"gray\")\n",
    "    ax[1,j].set_axis_off()\n",
    "    ax[2,j].imshow(y[0][0].cpu(), cmap=\"gray\")\n",
    "    ax[2,j].set_axis_off()\n",
    "    \n",
    "plt.axis('off')\n",
    "plt.show()"
   ]
  },
  {
   "cell_type": "code",
   "execution_count": null,
   "id": "2cca9614-44b4-4470-a6ad-e442a488ca80",
   "metadata": {},
   "outputs": [],
   "source": [
    "# determine mean and covariance of encoded data, and perform spectral decompositon\n",
    "\n",
    "all_data = torch.stack([x for (x,_) in full_dataset])\n",
    "all_data = all_data.to(device)\n",
    "\n",
    "model.eval()\n",
    "with torch.no_grad():\n",
    "    out = model.encode(all_data)\n",
    "    out = out.cpu()\n",
    "\n",
    "u = torch.mean(out,0)\n",
    "S = torch.cov(out.T)\n",
    "\n",
    "(L,Q)=torch.linalg.eigh(S)"
   ]
  },
  {
   "cell_type": "code",
   "execution_count": null,
   "id": "c8411c2f-8463-4ec9-a2e6-f4eea8b1de70",
   "metadata": {},
   "outputs": [],
   "source": [
    "# generate some images from random encoded data\n",
    "\n",
    "model.eval()\n",
    "(fig,ax) = plt.subplots(2, 10, constrained_layout=True)\n",
    "for j in range(10):\n",
    "    z = torch.randn(10)\n",
    "    #z = u + torch.randn(10)\n",
    "    #z = u + Q@torch.sqrt(L)*torch.randn(10)\n",
    "    z = z[None,:].to(device)\n",
    "\n",
    "    with torch.no_grad():\n",
    "        y = model.decode(z)\n",
    "    \n",
    "    ax[0,j].imshow(z[None,0].cpu(), cmap=\"gray\")\n",
    "    ax[0,j].set_axis_off()\n",
    "    ax[1,j].imshow(y[0][0].cpu(), cmap=\"gray\")\n",
    "    ax[1,j].set_axis_off()\n",
    "    \n",
    "plt.axis('off')\n",
    "plt.show()"
   ]
  },
  {
   "cell_type": "code",
   "execution_count": null,
   "id": "b3c079cc-d83e-435c-a2f3-8527fd616844",
   "metadata": {
    "scrolled": true
   },
   "outputs": [],
   "source": [
    "# generate some images along 2 principal axes\n",
    "\n",
    "model.eval()\n",
    "(fig,ax) = plt.subplots(11, 11, constrained_layout=True)\n",
    "for i in range(11):\n",
    "    for j in range(11):\n",
    "        z = u + (i-5)*torch.sqrt(L[-2])*Q[:,-2] \\\n",
    "              + (j-5)*torch.sqrt(L[-1])*Q[:,-1]\n",
    "        z = z[None,:].to(device)\n",
    "    \n",
    "        with torch.no_grad():\n",
    "            y = model.decode(z)\n",
    "        \n",
    "        ax[i,j].imshow(y[0][0].cpu(), cmap=\"gray\")\n",
    "        ax[i,j].set_axis_off()\n",
    "    \n",
    "plt.axis('off')\n",
    "plt.show()"
   ]
  },
  {
   "cell_type": "code",
   "execution_count": null,
   "id": "c29286dc-8d2a-4eab-8949-1cfa7dd8c960",
   "metadata": {
    "scrolled": true
   },
   "outputs": [],
   "source": [
    "# generate some images along the 10 highest principal values\n",
    "\n",
    "model.eval()\n",
    "(fig,ax) = plt.subplots(10, 11, constrained_layout=True)\n",
    "for i in range(10):\n",
    "    for j in range(11):\n",
    "        z = u + (j-5)*torch.sqrt(L[-1-i])*Q[:,-1-i]\n",
    "        z = z[None,:].to(device)\n",
    "    \n",
    "        with torch.no_grad():\n",
    "            y = model.decode(z)\n",
    "        \n",
    "        ax[i,j].imshow(y[0][0].cpu(), cmap=\"gray\")\n",
    "        ax[i,j].set_axis_off()\n",
    "    \n",
    "plt.axis('off')\n",
    "plt.show()"
   ]
  },
  {
   "cell_type": "code",
   "execution_count": null,
   "id": "3f384e5e-0d49-4b7f-981b-146ef91421bb",
   "metadata": {},
   "outputs": [],
   "source": []
  }
 ],
 "metadata": {
  "kernelspec": {
   "display_name": "Python 3 (ipykernel)",
   "language": "python",
   "name": "python3"
  },
  "language_info": {
   "codemirror_mode": {
    "name": "ipython",
    "version": 3
   },
   "file_extension": ".py",
   "mimetype": "text/x-python",
   "name": "python",
   "nbconvert_exporter": "python",
   "pygments_lexer": "ipython3",
   "version": "3.13.2"
  }
 },
 "nbformat": 4,
 "nbformat_minor": 5
}
