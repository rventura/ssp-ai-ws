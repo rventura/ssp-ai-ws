{
 "cells": [
  {
   "cell_type": "code",
   "execution_count": 82,
   "id": "25e14a39-5579-4ec3-aa03-fa31e3db3431",
   "metadata": {},
   "outputs": [],
   "source": [
    "import time\n",
    "import numpy as np\n",
    "import matplotlib.pyplot as plt\n",
    "import torch\n",
    "from torch import nn\n",
    "from torch.utils.data import *"
   ]
  },
  {
   "cell_type": "code",
   "execution_count": 83,
   "id": "1817a3e7-8e95-4e5f-806b-ca6e6ce8fe6e",
   "metadata": {},
   "outputs": [
    {
     "name": "stdout",
     "output_type": "stream",
     "text": [
      "Using mps device\n"
     ]
    }
   ],
   "source": [
    "device = torch.accelerator.current_accelerator().type if torch.accelerator.is_available() else \"cpu\"\n",
    "print(f\"Using {device} device\")"
   ]
  },
  {
   "cell_type": "code",
   "execution_count": 84,
   "id": "1c807169-1b6b-4c30-bf7a-b1b1ee7883a0",
   "metadata": {},
   "outputs": [
    {
     "name": "stdout",
     "output_type": "stream",
     "text": [
      "Path to dataset files: /Users/yoda/.cache/kagglehub/datasets/behrad3d/nasa-cmaps/versions/1\n"
     ]
    }
   ],
   "source": [
    "import kagglehub\n",
    "\n",
    "# Download latest version\n",
    "path = kagglehub.dataset_download(\"behrad3d/nasa-cmaps\")\n",
    "\n",
    "print(\"Path to dataset files:\", path)"
   ]
  },
  {
   "cell_type": "code",
   "execution_count": 85,
   "id": "9dd6ced4-e51c-495e-92a0-f804c7322056",
   "metadata": {},
   "outputs": [],
   "source": [
    "TRAIN_DATA_FILENAME = path + \"/CMaps/train_FD001.txt\"\n",
    "TEST_DATA_FILENAME = path + \"/CMaps/test_FD001.txt\"\n",
    "TEST_RUL_FILENAME = path + \"/CMaps/RUL_FD001.txt\""
   ]
  },
  {
   "cell_type": "code",
   "execution_count": 224,
   "id": "d3252af6-091b-4b6d-a36f-4b9b45ee15cf",
   "metadata": {},
   "outputs": [],
   "source": [
    "class FD001Dataset(Dataset):\n",
    "    def __init__(self, data_filename, labels_filename=None):\n",
    "        self.data = np.loadtxt(data_filename)\n",
    "        if labels_filename is None:\n",
    "            # this is a train dataset, will infer labels from data\n",
    "            n = int(self.data[:,0].max())\n",
    "            self.labels = np.zeros(len(self.data))\n",
    "            for i in range(n):\n",
    "                mask = self.data[:,0].astype(int)==i+1\n",
    "                rul = int(self.data[mask,1].max())\n",
    "                self.labels[mask] = rul - self.data[mask,1].astype(int) + 1\n",
    "        else:\n",
    "            # this is a test dataset, will load labels separately\n",
    "            ruls = np.loadtxt(labels_filename)\n",
    "            n = int(self.data[:,0].max())\n",
    "            self.labels = np.zeros(len(self.data))\n",
    "            for i in range(n):\n",
    "                mask = self.data[:,0].astype(int)==i+1\n",
    "                rul = int(self.data[mask,1].max()) + ruls[i]\n",
    "                self.labels[mask] = rul - self.data[mask,1].astype(int) + 1\n",
    "                #print(rul)\n",
    "                #print(self.data[mask,1].astype(int))\n",
    "                #print(self.labels[mask])\n",
    "\n",
    "    def normalize(self, ms=None):\n",
    "        if ms is None:\n",
    "            self.m = np.average(self.data[:,2:], axis=0)\n",
    "            self.s = np.std(self.data[:,2:], axis=0)\n",
    "            # HACK\n",
    "            self.s[self.s==0] = 1\n",
    "        else:\n",
    "            (self.m, self.s) = ms\n",
    "        return (self.m, self.s)\n",
    "    \n",
    "    def __len__(self):\n",
    "        return len(self.data)\n",
    "\n",
    "    def __getitem__(self, k):\n",
    "        x = (self.data[k][2:] - self.m) / self.s\n",
    "        return torch.Tensor(x), torch.Tensor([ min(100, self.labels[k]) ])"
   ]
  },
  {
   "cell_type": "code",
   "execution_count": 225,
   "id": "ea7eb0b9-c83f-4626-9061-c5cabc70255e",
   "metadata": {},
   "outputs": [
    {
     "name": "stdout",
     "output_type": "stream",
     "text": [
      "20631 train instances\n",
      "13096 test instances\n"
     ]
    }
   ],
   "source": [
    "train_dataset = FD001Dataset(TRAIN_DATA_FILENAME)\n",
    "norm = train_dataset.normalize()\n",
    "print(f\"{len(train_dataset)} train instances\")\n",
    "\n",
    "test_dataset = FD001Dataset(TEST_DATA_FILENAME, TEST_RUL_FILENAME)\n",
    "test_dataset.normalize(norm)\n",
    "print(f\"{len(test_dataset)} test instances\")"
   ]
  },
  {
   "cell_type": "code",
   "execution_count": 226,
   "id": "d1f0361d-cd30-4001-946b-1fdac74dbde0",
   "metadata": {},
   "outputs": [
    {
     "name": "stdout",
     "output_type": "stream",
     "text": [
      "Shape of X: torch.Size([256, 24])\n",
      "Shape of y: torch.Size([256, 1]) torch.float32\n"
     ]
    }
   ],
   "source": [
    "# This line defined the batch size\n",
    "batch_size = 256\n",
    "\n",
    "# Create data loaders.\n",
    "train_dataloader      = DataLoader(train_dataset, batch_size=batch_size, shuffle=True)\n",
    "#validation_dataloader = DataLoader(validation_dataset, batch_size=batch_size)\n",
    "test_dataloader       = DataLoader(test_dataset, batch_size=batch_size)\n",
    "\n",
    "# Show the shape of the first instance from the test dataset\n",
    "for X, y in test_dataloader:\n",
    "    print(f\"Shape of X: {X.shape}\")\n",
    "    print(f\"Shape of y: {y.shape} {y.dtype}\")\n",
    "    break"
   ]
  },
  {
   "cell_type": "code",
   "execution_count": 227,
   "id": "ebcbf5e8-0b02-4867-b9ab-1a55e8a3a029",
   "metadata": {},
   "outputs": [],
   "source": [
    "class ModelFC(nn.Module):\n",
    "    def __init__(self):\n",
    "        super().__init__()\n",
    "        self.fc = nn.Sequential(\n",
    "            nn.Linear(24, 240),\n",
    "            nn.ReLU(),\n",
    "            nn.Linear(240, 60),\n",
    "            nn.ReLU(),\n",
    "            nn.Linear(60, 20),\n",
    "            nn.ReLU(),\n",
    "            nn.Linear(20, 1)\n",
    "        )\n",
    "\n",
    "    def forward(self, x):\n",
    "        y = self.fc(x)\n",
    "        return y"
   ]
  },
  {
   "cell_type": "code",
   "execution_count": 228,
   "id": "99aa0ff9-7260-48e9-8d9a-8d9286671cf2",
   "metadata": {},
   "outputs": [
    {
     "name": "stdout",
     "output_type": "stream",
     "text": [
      "ModelFC(\n",
      "  (fc): Sequential(\n",
      "    (0): Linear(in_features=24, out_features=240, bias=True)\n",
      "    (1): ReLU()\n",
      "    (2): Linear(in_features=240, out_features=60, bias=True)\n",
      "    (3): ReLU()\n",
      "    (4): Linear(in_features=60, out_features=20, bias=True)\n",
      "    (5): ReLU()\n",
      "    (6): Linear(in_features=20, out_features=1, bias=True)\n",
      "  )\n",
      ")\n"
     ]
    }
   ],
   "source": [
    "## Uncomment the model you want to try out, leaving all others commented out\n",
    "\n",
    "model = ModelFC().to(device)\n",
    "\n",
    "print(model)\n",
    "\n",
    "loss_fn = nn.MSELoss()\n",
    "optimizer = torch.optim.Adam(model.parameters(), lr=1e-3)"
   ]
  },
  {
   "cell_type": "code",
   "execution_count": 229,
   "id": "8584dec8-8727-4d60-b023-ac09065f9333",
   "metadata": {},
   "outputs": [],
   "source": [
    "def train(dataloader, model, loss_fn, optimizer):\n",
    "    size = len(dataloader.dataset)\n",
    "    model.train()\n",
    "    t = 0\n",
    "    for batch, (X, y) in enumerate(dataloader):\n",
    "        X, y = X.to(device), y.to(device)\n",
    "\n",
    "        # Compute prediction error\n",
    "        pred = model(X)\n",
    "        loss = loss_fn(pred, y)\n",
    "\n",
    "        # Backpropagation\n",
    "        loss.backward()\n",
    "        optimizer.step()\n",
    "        optimizer.zero_grad()\n",
    "\n",
    "        # Prints loss progress every second\n",
    "        if time.monotonic()-t > 1:\n",
    "            t = time.monotonic()\n",
    "            loss, current = loss.item(), (batch + 1) * len(X)\n",
    "            print(f\"loss: {loss:>7f}  [{current:>5d}/{size:>5d}]\")"
   ]
  },
  {
   "cell_type": "code",
   "execution_count": 230,
   "id": "0f08b529-0598-44cf-8b2e-4e1873ee5900",
   "metadata": {},
   "outputs": [],
   "source": [
    "def test(dataloader, model, loss_fn):\n",
    "    size = len(dataloader.dataset)\n",
    "    num_batches = len(dataloader)\n",
    "    model.eval()\n",
    "    test_loss, abs_error = 0, 0\n",
    "    with torch.no_grad():\n",
    "        for X, y in dataloader:\n",
    "            X, y = X.to(device), y.to(device)\n",
    "            pred = model(X)\n",
    "            #print(X.shape, pred.shape, y.shape)\n",
    "            test_loss += loss_fn(pred, y).item()\n",
    "            abs_error += (pred - y).abs().type(torch.float).sum().item()\n",
    "            #print(f\"pred: {pred[:10]}\\ny: {y[:10]}\")\n",
    "    test_loss /= num_batches\n",
    "    abs_error /= size\n",
    "    print(f\"Average absolute error: {abs_error}, Avg loss: {test_loss}\")"
   ]
  },
  {
   "cell_type": "code",
   "execution_count": 231,
   "id": "d7d29f57-67fc-46cd-836c-7f2e2fa6716a",
   "metadata": {},
   "outputs": [
    {
     "name": "stdout",
     "output_type": "stream",
     "text": [
      "Epoch 1\n",
      "-------------------------------\n",
      "loss: 6583.066895  [  256/20631]\n",
      "Train: Average absolute error: 21.811844698209004, Avg loss: 691.6232586142457\n",
      "Test: Average absolute error: 20.884084688721448, Avg loss: 624.1694813508254\n",
      "Epoch 2\n",
      "-------------------------------\n",
      "loss: 633.775818  [  256/20631]\n",
      "Train: Average absolute error: 13.483491698721735, Avg loss: 274.40252666708864\n",
      "Test: Average absolute error: 12.29789081985949, Avg loss: 238.0065087905297\n",
      "Epoch 3\n",
      "-------------------------------\n",
      "loss: 269.542236  [  256/20631]\n",
      "Train: Average absolute error: 11.244658673868738, Avg loss: 203.75435610170717\n",
      "Test: Average absolute error: 10.133353921357786, Avg loss: 174.26257082132193\n",
      "Epoch 4\n",
      "-------------------------------\n",
      "loss: 165.140533  [  256/20631]\n",
      "Train: Average absolute error: 9.849109325156546, Avg loss: 172.3897880271629\n",
      "Test: Average absolute error: 8.470694474935094, Avg loss: 140.78558008487408\n",
      "Epoch 5\n",
      "-------------------------------\n",
      "loss: 179.901855  [  256/20631]\n",
      "Train: Average absolute error: 9.49061248470142, Avg loss: 167.95126493477528\n",
      "Test: Average absolute error: 8.00430623627175, Avg loss: 134.02128212268536\n",
      "Epoch 6\n",
      "-------------------------------\n",
      "loss: 172.363449  [  256/20631]\n",
      "Train: Average absolute error: 9.423373463231151, Avg loss: 166.41866839373554\n",
      "Test: Average absolute error: 8.037402195543068, Avg loss: 134.45309870059674\n",
      "Epoch 7\n",
      "-------------------------------\n",
      "loss: 178.097900  [  256/20631]\n",
      "Train: Average absolute error: 9.196527593961303, Avg loss: 164.00582188735774\n",
      "Test: Average absolute error: 7.779944662794371, Avg loss: 131.46733797513522\n",
      "Epoch 8\n",
      "-------------------------------\n",
      "loss: 131.970612  [  256/20631]\n",
      "Train: Average absolute error: 9.248625269713205, Avg loss: 162.2983075365608\n",
      "Test: Average absolute error: 7.9019095363162535, Avg loss: 131.21560800992526\n",
      "Epoch 9\n",
      "-------------------------------\n",
      "loss: 177.852661  [  256/20631]\n",
      "Train: Average absolute error: 9.161477373722342, Avg loss: 160.59005916265795\n",
      "Test: Average absolute error: 7.789797275475634, Avg loss: 128.99103205020612\n",
      "Epoch 10\n",
      "-------------------------------\n",
      "loss: 162.997192  [  256/20631]\n",
      "Train: Average absolute error: 8.993609754340405, Avg loss: 159.0728045805001\n",
      "Test: Average absolute error: 7.5870482666724035, Avg loss: 126.9952633197491\n",
      "Epoch 11\n",
      "-------------------------------\n",
      "loss: 194.111313  [  256/20631]\n",
      "Train: Average absolute error: 8.949437820976701, Avg loss: 157.7523009688766\n",
      "Test: Average absolute error: 7.53052858179054, Avg loss: 125.2885909814101\n",
      "Epoch 12\n",
      "-------------------------------\n",
      "loss: 142.156631  [  256/20631]\n",
      "Train: Average absolute error: 9.07032764710872, Avg loss: 157.53018772454908\n",
      "Test: Average absolute error: 7.688580736126489, Avg loss: 125.13181348947379\n",
      "Epoch 13\n",
      "-------------------------------\n",
      "loss: 155.462372  [  256/20631]\n",
      "Train: Average absolute error: 8.92543551132663, Avg loss: 156.36678568522134\n",
      "Test: Average absolute error: 7.452284282201955, Avg loss: 122.03098990367009\n",
      "Epoch 14\n",
      "-------------------------------\n",
      "loss: 157.437698  [  256/20631]\n",
      "Train: Average absolute error: 8.539495529804208, Avg loss: 153.27720915241005\n",
      "Test: Average absolute error: 6.961151166157381, Avg loss: 117.94877290725708\n",
      "Epoch 15\n",
      "-------------------------------\n",
      "loss: 191.988602  [  256/20631]\n",
      "Train: Average absolute error: 8.60066699228217, Avg loss: 151.72098042052468\n",
      "Test: Average absolute error: 7.07865233936904, Avg loss: 116.77342763313881\n",
      "Epoch 16\n",
      "-------------------------------\n",
      "loss: 139.156708  [  256/20631]\n",
      "Train: Average absolute error: 8.402178812186454, Avg loss: 150.60214958661868\n",
      "Test: Average absolute error: 6.793027144929004, Avg loss: 114.38524277393634\n",
      "Epoch 17\n",
      "-------------------------------\n",
      "loss: 144.597946  [  256/20631]\n",
      "Train: Average absolute error: 8.299099110325102, Avg loss: 150.10053884247202\n",
      "Test: Average absolute error: 6.663779902472755, Avg loss: 113.5383076942884\n",
      "Epoch 18\n",
      "-------------------------------\n",
      "loss: 181.808746  [  256/20631]\n",
      "Train: Average absolute error: 8.33388971148734, Avg loss: 150.69381101631825\n",
      "Test: Average absolute error: 6.587985205956181, Avg loss: 111.52817883858314\n",
      "Epoch 19\n",
      "-------------------------------\n",
      "loss: 155.006973  [  256/20631]\n",
      "Train: Average absolute error: 8.0960759982986, Avg loss: 149.2828422828957\n",
      "Test: Average absolute error: 6.285581126181032, Avg loss: 110.51389341170972\n",
      "Epoch 20\n",
      "-------------------------------\n",
      "loss: 147.267838  [  256/20631]\n",
      "Train: Average absolute error: 8.088542039427546, Avg loss: 148.26712036132812\n",
      "Test: Average absolute error: 6.340363229275041, Avg loss: 110.74400692719679\n",
      "Done!\n"
     ]
    }
   ],
   "source": [
    "# Define here the number of epochs. Increase if loss descent does not stabilize in time.\n",
    "epochs = 20\n",
    "\n",
    "for t in range(epochs):\n",
    "    print(f\"Epoch {t+1}\\n-------------------------------\")\n",
    "    train(train_dataloader, model, loss_fn, optimizer)\n",
    "    print(\"Train: \", end=\"\")\n",
    "    test(train_dataloader, model, loss_fn)\n",
    "    print(\"Test: \", end=\"\")\n",
    "    test(test_dataloader, model, loss_fn)\n",
    "print(\"Done!\")"
   ]
  },
  {
   "cell_type": "code",
   "execution_count": null,
   "id": "02732349-e9fb-4691-9bba-5c2f334422cd",
   "metadata": {},
   "outputs": [],
   "source": []
  }
 ],
 "metadata": {
  "kernelspec": {
   "display_name": "Python 3 (ipykernel)",
   "language": "python",
   "name": "python3"
  },
  "language_info": {
   "codemirror_mode": {
    "name": "ipython",
    "version": 3
   },
   "file_extension": ".py",
   "mimetype": "text/x-python",
   "name": "python",
   "nbconvert_exporter": "python",
   "pygments_lexer": "ipython3",
   "version": "3.13.5"
  }
 },
 "nbformat": 4,
 "nbformat_minor": 5
}
